{
 "cells": [
  {
   "cell_type": "code",
   "execution_count": 1,
   "id": "2ef20fac",
   "metadata": {},
   "outputs": [],
   "source": [
    "import torch\n",
    "import math"
   ]
  },
  {
   "cell_type": "code",
   "execution_count": 2,
   "id": "be23b112",
   "metadata": {},
   "outputs": [],
   "source": [
    "dtype = torch.float\n",
    "device = torch.device('cpu')"
   ]
  },
  {
   "cell_type": "code",
   "execution_count": 3,
   "id": "57ffc28a",
   "metadata": {},
   "outputs": [],
   "source": [
    "#random input and o/p\n",
    "x = torch.linspace(-math.pi,math.pi,2000)\n",
    "y = torch.sin(x)"
   ]
  },
  {
   "cell_type": "code",
   "execution_count": 4,
   "id": "eaf97c01",
   "metadata": {},
   "outputs": [],
   "source": [
    "#randomly init weights\n",
    "a = torch.randn((), device=device, dtype=dtype)\n",
    "b = torch.randn((), device=device, dtype=dtype)\n",
    "c = torch.randn((), device=device, dtype=dtype)\n",
    "d = torch.randn((), device=device, dtype=dtype)"
   ]
  },
  {
   "cell_type": "code",
   "execution_count": 5,
   "id": "a22c9121",
   "metadata": {},
   "outputs": [
    {
     "name": "stdout",
     "output_type": "stream",
     "text": [
      "99 5296.33056640625\n",
      "199 3559.50439453125\n",
      "299 2395.149169921875\n",
      "399 1613.981201171875\n",
      "499 1089.4815673828125\n",
      "599 737.028564453125\n",
      "699 499.98675537109375\n",
      "799 340.4244689941406\n",
      "899 232.9198760986328\n",
      "999 160.4210205078125\n",
      "1099 111.48267364501953\n",
      "1199 78.41535186767578\n",
      "1299 56.04933547973633\n",
      "1399 40.9061279296875\n",
      "1499 30.64220428466797\n",
      "1599 23.677936553955078\n",
      "1699 18.947446823120117\n",
      "1799 15.730602264404297\n",
      "1899 13.540682792663574\n",
      "1999 12.048158645629883\n",
      "Result: y = -0.04287254810333252 + 0.8179735541343689 x + 0.007396227680146694 x^2 + -0.08781607449054718 x^3\n"
     ]
    }
   ],
   "source": [
    "learning_rate = 1e-6\n",
    "for t in range(2000):\n",
    "    #Forward pass\n",
    "    y_pred = a + b*x + c*x**2 + d*x**3\n",
    "    \n",
    "    #compute loss \n",
    "    loss = (y_pred-y).pow(2).sum().item()\n",
    "    if t%100 == 99:\n",
    "        print(t,loss)\n",
    "    \n",
    "    #backpropagate to compute gradient of a,b,c,d wrt loss\n",
    "    grad_y_pred = 2.0*(y_pred-y)\n",
    "    grad_a = grad_y_pred.sum()\n",
    "    grad_b = (grad_y_pred*x).sum()\n",
    "    grad_c = (grad_y_pred*x**2).sum()\n",
    "    grad_d = (grad_y_pred*x**3).sum()\n",
    "    \n",
    "    #update weight using gradient descent\n",
    "    a -= learning_rate*grad_a\n",
    "    b -= learning_rate*grad_b\n",
    "    c -= learning_rate*grad_c\n",
    "    d -= learning_rate*grad_d\n",
    "    \n",
    "print(f'Result: y = {a.item()} + {b.item()} x + {c.item()} x^2 + {d.item()} x^3')"
   ]
  },
  {
   "cell_type": "markdown",
   "id": "9929ffb1",
   "metadata": {},
   "source": [
    "# Aurograd"
   ]
  },
  {
   "cell_type": "code",
   "execution_count": null,
   "id": "f2684f75",
   "metadata": {},
   "outputs": [],
   "source": []
  },
  {
   "cell_type": "code",
   "execution_count": 9,
   "id": "034c0283",
   "metadata": {},
   "outputs": [],
   "source": [
    "#random input and o/p\n",
    "x = torch.linspace(-math.pi,math.pi,2000,device=device,dtype=dtype)\n",
    "y = torch.sin(x)"
   ]
  },
  {
   "cell_type": "code",
   "execution_count": 10,
   "id": "f75d9ab0",
   "metadata": {},
   "outputs": [],
   "source": [
    "#randomly init weights\n",
    "a = torch.randn((), device=device, dtype=dtype, requires_grad=True)\n",
    "b = torch.randn((), device=device, dtype=dtype, requires_grad=True)\n",
    "c = torch.randn((), device=device, dtype=dtype, requires_grad=True)\n",
    "d = torch.randn((), device=device, dtype=dtype, requires_grad=True)"
   ]
  },
  {
   "cell_type": "code",
   "execution_count": 13,
   "id": "7b9469f7",
   "metadata": {},
   "outputs": [
    {
     "name": "stdout",
     "output_type": "stream",
     "text": [
      "99 713601.75\n",
      "199 713607.9375\n",
      "299 713614.25\n",
      "399 713620.9375\n",
      "499 713627.8125\n",
      "599 713634.9375\n",
      "699 713642.25\n",
      "799 713649.75\n",
      "899 713657.5625\n",
      "999 713665.5\n",
      "1099 713673.6875\n",
      "1199 713682.125\n",
      "1299 713690.75\n",
      "1399 713699.625\n",
      "1499 713708.75\n",
      "1599 713718.125\n",
      "1699 713727.6875\n",
      "1799 713737.5\n",
      "1899 713747.625\n",
      "1999 713757.875\n",
      "Result: y = 1.0860239267349243 + 0.40834811329841614 x + 0.8347156643867493 x^2 + -1.5916025638580322 x^3\n"
     ]
    }
   ],
   "source": [
    "learning_rate = 1e-6\n",
    "for t in range(2000):\n",
    "    #Forward pass\n",
    "    y_pred = a + b*x + c*x**2 + d*x**3\n",
    "    \n",
    "    #compute loss \n",
    "    loss = (y_pred-y).pow(2).sum()\n",
    "    if t%100 == 99:\n",
    "        print(t,loss.item())\n",
    "    \n",
    "    loss.backward()\n",
    "    \n",
    "    with torch.no_grad():\n",
    "        a -= learning_rate*grad_a\n",
    "        b -= learning_rate*grad_b\n",
    "        c -= learning_rate*grad_c\n",
    "        d -= learning_rate*grad_d\n",
    "        \n",
    "        #Manually zero the grad after updating the weight\n",
    "        a.grad = None\n",
    "        b.grad = None\n",
    "        c.grad = None\n",
    "        d.grad = None\n",
    "print(f'Result: y = {a.item()} + {b.item()} x + {c.item()} x^2 + {d.item()} x^3')"
   ]
  },
  {
   "cell_type": "markdown",
   "id": "f49cbe60",
   "metadata": {},
   "source": [
    "# NN Module"
   ]
  },
  {
   "cell_type": "code",
   "execution_count": 14,
   "id": "20a69dbc",
   "metadata": {},
   "outputs": [],
   "source": [
    "# tensor (x, x^2, x^3).\n",
    "p = torch.tensor([1,2,3])\n",
    "xx = x.unsqueeze(-1).pow(p)"
   ]
  },
  {
   "cell_type": "code",
   "execution_count": 18,
   "id": "4655c248",
   "metadata": {},
   "outputs": [],
   "source": [
    "model = torch.nn.Sequential(\n",
    "    torch.nn.Linear(3,1),\n",
    "    torch.nn.Flatten(0,1)\n",
    ")"
   ]
  },
  {
   "cell_type": "code",
   "execution_count": 19,
   "id": "8df8dc5e",
   "metadata": {},
   "outputs": [],
   "source": [
    "loss_fn = torch.nn.MSELoss(reduction='sum')\n"
   ]
  },
  {
   "cell_type": "code",
   "execution_count": 20,
   "id": "2991ef40",
   "metadata": {},
   "outputs": [
    {
     "ename": "TypeError",
     "evalue": "unsupported operand type(s) for *: 'float' and 'NoneType'",
     "output_type": "error",
     "traceback": [
      "\u001b[0;31m---------------------------------------------------------------------------\u001b[0m",
      "\u001b[0;31mTypeError\u001b[0m                                 Traceback (most recent call last)",
      "\u001b[0;32m/tmp/ipykernel_357669/239505080.py\u001b[0m in \u001b[0;36m<module>\u001b[0;34m\u001b[0m\n\u001b[1;32m     11\u001b[0m     \u001b[0;32mwith\u001b[0m \u001b[0mtorch\u001b[0m\u001b[0;34m.\u001b[0m\u001b[0mno_grad\u001b[0m\u001b[0;34m(\u001b[0m\u001b[0;34m)\u001b[0m\u001b[0;34m:\u001b[0m\u001b[0;34m\u001b[0m\u001b[0;34m\u001b[0m\u001b[0m\n\u001b[1;32m     12\u001b[0m         \u001b[0;32mfor\u001b[0m \u001b[0mparam\u001b[0m \u001b[0;32min\u001b[0m \u001b[0mmodel\u001b[0m\u001b[0;34m.\u001b[0m\u001b[0mparameters\u001b[0m\u001b[0;34m(\u001b[0m\u001b[0;34m)\u001b[0m\u001b[0;34m:\u001b[0m\u001b[0;34m\u001b[0m\u001b[0;34m\u001b[0m\u001b[0m\n\u001b[0;32m---> 13\u001b[0;31m             \u001b[0mparam\u001b[0m \u001b[0;34m-=\u001b[0m \u001b[0mlearning_rate\u001b[0m\u001b[0;34m*\u001b[0m\u001b[0mparam\u001b[0m\u001b[0;34m.\u001b[0m\u001b[0mgrad\u001b[0m\u001b[0;34m\u001b[0m\u001b[0;34m\u001b[0m\u001b[0m\n\u001b[0m\u001b[1;32m     14\u001b[0m \u001b[0;34m\u001b[0m\u001b[0m\n\u001b[1;32m     15\u001b[0m \u001b[0;31m# You can access the first layer of `model` like accessing the first item of a list\u001b[0m\u001b[0;34m\u001b[0m\u001b[0;34m\u001b[0m\u001b[0m\n",
      "\u001b[0;31mTypeError\u001b[0m: unsupported operand type(s) for *: 'float' and 'NoneType'"
     ]
    }
   ],
   "source": [
    "learning_rate = 1e-6\n",
    "for t in range(2000):\n",
    "    y_pred = model(xx)\n",
    "    \n",
    "    loss = loss_fn(y_pred,y)\n",
    "    if t%100==99:\n",
    "        print(t,loss.item())\n",
    "    \n",
    "    model.zero_grad()\n",
    "    \n",
    "    with torch.no_grad():\n",
    "        for param in model.parameters():\n",
    "            param -= learning_rate*param.grad\n",
    "\n",
    "# You can access the first layer of `model` like accessing the first item of a list\n",
    "linear_layer = model[0]\n",
    "\n",
    "# For linear layer, its parameters are stored as `weight` and `bias`.\n",
    "print(f'Result: y = {linear_layer.bias.item()} + {linear_layer.weight[:, 0].item()} x + {linear_layer.weight[:, 1].item()} x^2 + {linear_layer.weight[:, 2].item()} x^3')\n",
    "        "
   ]
  },
  {
   "cell_type": "markdown",
   "id": "d2254594",
   "metadata": {},
   "source": [
    "# Optim"
   ]
  },
  {
   "cell_type": "code",
   "execution_count": 21,
   "id": "3c2e8c90",
   "metadata": {},
   "outputs": [],
   "source": [
    "model = torch.nn.Sequential(\n",
    "    torch.nn.Linear(3,1),\n",
    "    torch.nn.Flatten(0,1)\n",
    ")"
   ]
  },
  {
   "cell_type": "code",
   "execution_count": 22,
   "id": "5fb99070",
   "metadata": {},
   "outputs": [],
   "source": [
    "loss_fn = torch.nn.MSELoss(reduction='sum')\n",
    "\n",
    "learning_rate = 1e-3\n",
    "\n",
    "optimizer = torch.optim.RMSprop(model.parameters(), lr = learning_rate)\n",
    "\n"
   ]
  },
  {
   "cell_type": "code",
   "execution_count": 23,
   "id": "e727c487",
   "metadata": {},
   "outputs": [
    {
     "name": "stdout",
     "output_type": "stream",
     "text": [
      "99 29957.072265625\n",
      "199 14522.5615234375\n",
      "299 6435.462890625\n",
      "399 2615.17919921875\n",
      "499 1286.90771484375\n",
      "599 989.86865234375\n",
      "699 876.6983642578125\n",
      "799 751.5184936523438\n",
      "899 616.2755126953125\n",
      "999 486.0467834472656\n",
      "1099 369.83026123046875\n",
      "1199 270.88580322265625\n",
      "1299 189.72262573242188\n",
      "1399 125.6277847290039\n",
      "1499 77.58940887451172\n",
      "1599 44.237274169921875\n",
      "1699 23.742752075195312\n",
      "1799 13.365751266479492\n",
      "1899 9.638579368591309\n",
      "1999 8.912074089050293\n"
     ]
    }
   ],
   "source": [
    "for t in range(2000):\n",
    "    y_pred = model(xx)\n",
    "    \n",
    "    loss = loss_fn(y_pred,y)\n",
    "    if t%100==99:\n",
    "        print(t,loss.item())\n",
    "    optimizer.zero_grad()\n",
    "    \n",
    "    loss.backward()\n",
    "    \n",
    "    optimizer.step()\n",
    "    "
   ]
  },
  {
   "cell_type": "code",
   "execution_count": 24,
   "id": "2181c1ed",
   "metadata": {},
   "outputs": [
    {
     "name": "stdout",
     "output_type": "stream",
     "text": [
      "Result: y = -0.0004854503786191344 + 0.8494857549667358 x + -0.0004854584112763405 x^2 + -0.09260600805282593 x^3\n"
     ]
    }
   ],
   "source": [
    "# You can access the first layer of `model` like accessing the first item of a list\n",
    "linear_layer = model[0]\n",
    "\n",
    "# For linear layer, its parameters are stored as `weight` and `bias`.\n",
    "print(f'Result: y = {linear_layer.bias.item()} + {linear_layer.weight[:, 0].item()} x + {linear_layer.weight[:, 1].item()} x^2 + {linear_layer.weight[:, 2].item()} x^3')\n",
    "        "
   ]
  },
  {
   "cell_type": "code",
   "execution_count": null,
   "id": "88bfbe0c",
   "metadata": {},
   "outputs": [],
   "source": []
  }
 ],
 "metadata": {
  "kernelspec": {
   "display_name": "Python 3 (ipykernel)",
   "language": "python",
   "name": "python3"
  },
  "language_info": {
   "codemirror_mode": {
    "name": "ipython",
    "version": 3
   },
   "file_extension": ".py",
   "mimetype": "text/x-python",
   "name": "python",
   "nbconvert_exporter": "python",
   "pygments_lexer": "ipython3",
   "version": "3.9.7"
  }
 },
 "nbformat": 4,
 "nbformat_minor": 5
}
